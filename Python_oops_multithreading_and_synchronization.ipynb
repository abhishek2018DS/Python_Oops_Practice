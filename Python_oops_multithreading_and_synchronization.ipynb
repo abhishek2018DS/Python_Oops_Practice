{
 "cells": [
  {
   "cell_type": "markdown",
   "metadata": {},
   "source": [
    "#### 56. Design a class representing a Counter with multithreading support."
   ]
  },
  {
   "cell_type": "code",
   "execution_count": 1,
   "metadata": {},
   "outputs": [
    {
     "name": "stdout",
     "output_type": "stream",
     "text": [
      "Final counter value: 10000\n"
     ]
    }
   ],
   "source": [
    "import threading\n",
    "\n",
    "class Counter:\n",
    "    def __init__(self):\n",
    "        self.value = 0\n",
    "        self.lock = threading.Lock()\n",
    "\n",
    "    def increment(self):\n",
    "        with self.lock:\n",
    "            self.value += 1\n",
    "\n",
    "    def get_value(self):\n",
    "        with self.lock:\n",
    "            return self.value\n",
    "\n",
    "# Example usage:\n",
    "counter = Counter()\n",
    "\n",
    "def count_up():\n",
    "    for _ in range(1000):\n",
    "        counter.increment()\n",
    "\n",
    "threads = [threading.Thread(target=count_up) for _ in range(10)]\n",
    "for thread in threads:\n",
    "    thread.start()\n",
    "for thread in threads:\n",
    "    thread.join()\n",
    "\n",
    "print(\"Final counter value:\", counter.get_value())  # Output should be 10000"
   ]
  },
  {
   "cell_type": "markdown",
   "metadata": {},
   "source": [
    "#### 57. Implement a class representing a Shared Resource with synchronization mechanisms."
   ]
  },
  {
   "cell_type": "code",
   "execution_count": 2,
   "metadata": {},
   "outputs": [
    {
     "name": "stdout",
     "output_type": "stream",
     "text": [
      "Final resource value: 9\n"
     ]
    }
   ],
   "source": [
    "import threading\n",
    "\n",
    "class SharedResource:\n",
    "    def __init__(self):\n",
    "        self.resource = 0\n",
    "        self.lock = threading.Lock()\n",
    "\n",
    "    def update_resource(self, value):\n",
    "        with self.lock:\n",
    "            self.resource = value\n",
    "\n",
    "    def get_resource(self):\n",
    "        with self.lock:\n",
    "            return self.resource\n",
    "\n",
    "# Example usage:\n",
    "shared = SharedResource()\n",
    "\n",
    "def modify_resource(value):\n",
    "    shared.update_resource(value)\n",
    "\n",
    "threads = [threading.Thread(target=modify_resource, args=(i,)) for i in range(10)]\n",
    "for thread in threads:\n",
    "    thread.start()\n",
    "for thread in threads:\n",
    "    thread.join()\n",
    "\n",
    "print(\"Final resource value:\", shared.get_resource())  # Output should be the last updated value (9)"
   ]
  },
  {
   "cell_type": "markdown",
   "metadata": {},
   "source": [
    "#### 58. Develop a class representing a ThreadPool for concurrent task execution."
   ]
  },
  {
   "cell_type": "code",
   "execution_count": 3,
   "metadata": {},
   "outputs": [
    {
     "name": "stdout",
     "output_type": "stream",
     "text": [
      "Number: 0\n",
      "Number: 1\n",
      "Number: 2\n",
      "Number: 3\n",
      "Number: 4\n",
      "Number: 5\n",
      "Number: 6\n",
      "Number: 7\n",
      "Number: 8\n",
      "Number: 9\n"
     ]
    }
   ],
   "source": [
    "import threading\n",
    "import queue\n",
    "\n",
    "class ThreadPool:\n",
    "    def __init__(self, num_threads):\n",
    "        self.tasks = queue.Queue()\n",
    "        self.threads = []\n",
    "        for _ in range(num_threads):\n",
    "            thread = threading.Thread(target=self.worker)\n",
    "            thread.start()\n",
    "            self.threads.append(thread)\n",
    "\n",
    "    def worker(self):\n",
    "        while True:\n",
    "            task, args = self.tasks.get()\n",
    "            if task is None:\n",
    "                break\n",
    "            task(*args)\n",
    "            self.tasks.task_done()\n",
    "\n",
    "    def submit(self, task, *args):\n",
    "        self.tasks.put((task, args))\n",
    "\n",
    "    def shutdown(self):\n",
    "        for _ in self.threads:\n",
    "            self.tasks.put((None, ()))\n",
    "        for thread in self.threads:\n",
    "            thread.join()\n",
    "\n",
    "# Example usage:\n",
    "def print_number(number):\n",
    "    print(f\"Number: {number}\")\n",
    "\n",
    "pool = ThreadPool(4)\n",
    "for i in range(10):\n",
    "    pool.submit(print_number, i)\n",
    "pool.shutdown()"
   ]
  },
  {
   "cell_type": "markdown",
   "metadata": {},
   "source": [
    "#### 59. Create a class representing a Producer-Consumer problem with multithreading."
   ]
  },
  {
   "cell_type": "code",
   "execution_count": 4,
   "metadata": {},
   "outputs": [
    {
     "name": "stdout",
     "output_type": "stream",
     "text": [
      "Produced: 0\n",
      "Produced: 1\n",
      "Consumed: 0\n",
      "Produced: 2\n",
      "Produced: 3\n",
      "Consumed: 1\n",
      "Produced: 4\n",
      "Consumed: 2\n",
      "Consumed: 3\n",
      "Consumed: 4\n"
     ]
    }
   ],
   "source": [
    "import threading\n",
    "import queue\n",
    "import time\n",
    "\n",
    "class ProducerConsumer:\n",
    "    def __init__(self):\n",
    "        self.queue = queue.Queue()\n",
    "        self.lock = threading.Lock()\n",
    "\n",
    "    def producer(self, count):\n",
    "        for i in range(count):\n",
    "            time.sleep(1)  # Simulating work\n",
    "            with self.lock:\n",
    "                self.queue.put(i)\n",
    "                print(f\"Produced: {i}\")\n",
    "\n",
    "    def consumer(self, count):\n",
    "        for _ in range(count):\n",
    "            item = self.queue.get()\n",
    "            time.sleep(2)  # Simulating work\n",
    "            with self.lock:\n",
    "                print(f\"Consumed: {item}\")\n",
    "            self.queue.task_done()\n",
    "\n",
    "# Example usage:\n",
    "pc = ProducerConsumer()\n",
    "producer_thread = threading.Thread(target=pc.producer, args=(5,))\n",
    "consumer_thread = threading.Thread(target=pc.consumer, args=(5,))\n",
    "\n",
    "producer_thread.start()\n",
    "consumer_thread.start()\n",
    "\n",
    "producer_thread.join()\n",
    "consumer_thread.join()"
   ]
  },
  {
   "cell_type": "markdown",
   "metadata": {},
   "source": [
    "#### 60. Design a class representing a Cache with thread-safe operations."
   ]
  },
  {
   "cell_type": "code",
   "execution_count": 5,
   "metadata": {},
   "outputs": [
    {
     "name": "stdout",
     "output_type": "stream",
     "text": [
      "Set: key0 = value0\n",
      "Set: key1 = value1\n",
      "Set: key2 = value2\n",
      "Set: key3 = value3\n",
      "Set: key4 = value4\n",
      "Get: key0 = value0Get: key1 = value1\n",
      "\n",
      "Get: key2 = value2\n",
      "Get: key3 = value3\n",
      "Get: key4 = value4\n"
     ]
    }
   ],
   "source": [
    "import threading\n",
    "\n",
    "class ThreadSafeCache:\n",
    "    def __init__(self):\n",
    "        self.cache = {}\n",
    "        self.lock = threading.Lock()\n",
    "\n",
    "    def set(self, key, value):\n",
    "        with self.lock:\n",
    "            self.cache[key] = value\n",
    "            print(f\"Set: {key} = {value}\")\n",
    "\n",
    "    def get(self, key):\n",
    "        with self.lock:\n",
    "            return self.cache.get(key, None)\n",
    "\n",
    "    def delete(self, key):\n",
    "        with self.lock:\n",
    "            if key in self.cache:\n",
    "                del self.cache[key]\n",
    "                print(f\"Deleted: {key}\")\n",
    "\n",
    "# Example usage:\n",
    "cache = ThreadSafeCache()\n",
    "\n",
    "def worker_set(key, value):\n",
    "    cache.set(key, value)\n",
    "\n",
    "def worker_get(key):\n",
    "    print(f\"Get: {key} = {cache.get(key)}\")\n",
    "\n",
    "threads = []\n",
    "for i in range(5):\n",
    "    t = threading.Thread(target=worker_set, args=(f\"key{i}\", f\"value{i}\"))\n",
    "    threads.append(t)\n",
    "    t.start()\n",
    "\n",
    "for t in threads:\n",
    "    t.join()\n",
    "\n",
    "for i in range(5):\n",
    "    t = threading.Thread(target=worker_get, args=(f\"key{i}\",))\n",
    "    threads.append(t)\n",
    "    t.start()\n",
    "\n",
    "for t in threads:\n",
    "    t.join()"
   ]
  },
  {
   "cell_type": "code",
   "execution_count": null,
   "metadata": {},
   "outputs": [],
   "source": []
  }
 ],
 "metadata": {
  "kernelspec": {
   "display_name": "Python 3",
   "language": "python",
   "name": "python3"
  },
  "language_info": {
   "codemirror_mode": {
    "name": "ipython",
    "version": 3
   },
   "file_extension": ".py",
   "mimetype": "text/x-python",
   "name": "python",
   "nbconvert_exporter": "python",
   "pygments_lexer": "ipython3",
   "version": "3.6.9"
  }
 },
 "nbformat": 4,
 "nbformat_minor": 4
}
