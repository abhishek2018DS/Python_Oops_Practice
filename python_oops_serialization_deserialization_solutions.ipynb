{
 "cells": [
  {
   "cell_type": "markdown",
   "metadata": {},
   "source": [
    "#### 46. Serialize and deserialize an object to/from JSON format."
   ]
  },
  {
   "cell_type": "code",
   "execution_count": 1,
   "metadata": {},
   "outputs": [
    {
     "name": "stdout",
     "output_type": "stream",
     "text": [
      "Serialized to JSON: {\"name\": \"John\", \"age\": 30}\n",
      "Deserialized from JSON: John 30\n"
     ]
    }
   ],
   "source": [
    "import json\n",
    "\n",
    "class Person:\n",
    "    def __init__(self, name, age):\n",
    "        self.name = name\n",
    "        self.age = age\n",
    "\n",
    "    def to_dict(self):\n",
    "        return {\"name\": self.name, \"age\": self.age}\n",
    "\n",
    "    @classmethod\n",
    "    def from_dict(cls, data):\n",
    "        return cls(data[\"name\"], data[\"age\"])\n",
    "\n",
    "# Serialize to JSON\n",
    "person = Person(\"John\", 30)\n",
    "person_json = json.dumps(person.to_dict())\n",
    "print(\"Serialized to JSON:\", person_json)\n",
    "\n",
    "# Deserialize from JSON\n",
    "person_data = json.loads(person_json)\n",
    "new_person = Person.from_dict(person_data)\n",
    "print(\"Deserialized from JSON:\", new_person.name, new_person.age)"
   ]
  },
  {
   "cell_type": "markdown",
   "metadata": {},
   "source": [
    "#### 47. Serialize and deserialize an object to/from XML format."
   ]
  },
  {
   "cell_type": "code",
   "execution_count": 2,
   "metadata": {},
   "outputs": [
    {
     "name": "stdout",
     "output_type": "stream",
     "text": [
      "Serialized to XML: <person><name>John</name><age>30</age></person>\n",
      "Deserialized from XML: John 30\n"
     ]
    }
   ],
   "source": [
    "import xml.etree.ElementTree as ET\n",
    "\n",
    "class Person:\n",
    "    def __init__(self, name, age):\n",
    "        self.name = name\n",
    "        self.age = age\n",
    "\n",
    "    def to_xml(self):\n",
    "        person = ET.Element(\"person\")\n",
    "        name = ET.SubElement(person, \"name\")\n",
    "        name.text = self.name\n",
    "        age = ET.SubElement(person, \"age\")\n",
    "        age.text = str(self.age)\n",
    "        return ET.tostring(person, encoding='unicode')\n",
    "\n",
    "    @classmethod\n",
    "    def from_xml(cls, xml_data):\n",
    "        tree = ET.ElementTree(ET.fromstring(xml_data))\n",
    "        root = tree.getroot()\n",
    "        name = root.find(\"name\").text\n",
    "        age = int(root.find(\"age\").text)\n",
    "        return cls(name, age)\n",
    "\n",
    "# Serialize to XML\n",
    "person = Person(\"John\", 30)\n",
    "person_xml = person.to_xml()\n",
    "print(\"Serialized to XML:\", person_xml)\n",
    "\n",
    "# Deserialize from XML\n",
    "new_person = Person.from_xml(person_xml)\n",
    "print(\"Deserialized from XML:\", new_person.name, new_person.age)"
   ]
  },
  {
   "cell_type": "markdown",
   "metadata": {},
   "source": [
    "#### 48. Serialize and deserialize an object to/from CSV format."
   ]
  },
  {
   "cell_type": "code",
   "execution_count": 3,
   "metadata": {},
   "outputs": [
    {
     "name": "stdout",
     "output_type": "stream",
     "text": [
      "Serialized to CSV: John,30\n",
      "Deserialized from CSV: John 30\n"
     ]
    }
   ],
   "source": [
    "import csv\n",
    "import io\n",
    "\n",
    "class Person:\n",
    "    def __init__(self, name, age):\n",
    "        self.name = name\n",
    "        self.age = age\n",
    "\n",
    "    def to_csv(self):\n",
    "        output = io.StringIO()\n",
    "        writer = csv.writer(output)\n",
    "        writer.writerow([self.name, self.age])\n",
    "        return output.getvalue().strip()\n",
    "\n",
    "    @classmethod\n",
    "    def from_csv(cls, csv_data):\n",
    "        input = io.StringIO(csv_data)\n",
    "        reader = csv.reader(input)\n",
    "        row = next(reader)\n",
    "        return cls(row[0], int(row[1]))\n",
    "\n",
    "# Serialize to CSV\n",
    "person = Person(\"John\", 30)\n",
    "person_csv = person.to_csv()\n",
    "print(\"Serialized to CSV:\", person_csv)\n",
    "\n",
    "# Deserialize from CSV\n",
    "new_person = Person.from_csv(person_csv)\n",
    "print(\"Deserialized from CSV:\", new_person.name, new_person.age)"
   ]
  },
  {
   "cell_type": "markdown",
   "metadata": {},
   "source": [
    "#### 49. Serialize and deserialize an object to/from YAML format."
   ]
  },
  {
   "cell_type": "code",
   "execution_count": 4,
   "metadata": {},
   "outputs": [
    {
     "name": "stdout",
     "output_type": "stream",
     "text": [
      "Serialized to YAML: {age: 30, name: John}\n",
      "\n"
     ]
    },
    {
     "ename": "AttributeError",
     "evalue": "module 'yaml' has no attribute 'FullLoader'",
     "output_type": "error",
     "traceback": [
      "\u001b[0;31m---------------------------------------------------------------------------\u001b[0m",
      "\u001b[0;31mAttributeError\u001b[0m                            Traceback (most recent call last)",
      "\u001b[0;32m<ipython-input-4-0be0204876ea>\u001b[0m in \u001b[0;36m<module>\u001b[0;34m\u001b[0m\n\u001b[1;32m     20\u001b[0m \u001b[0;34m\u001b[0m\u001b[0m\n\u001b[1;32m     21\u001b[0m \u001b[0;31m# Deserialize from YAML\u001b[0m\u001b[0;34m\u001b[0m\u001b[0;34m\u001b[0m\u001b[0;34m\u001b[0m\u001b[0m\n\u001b[0;32m---> 22\u001b[0;31m \u001b[0mnew_person\u001b[0m \u001b[0;34m=\u001b[0m \u001b[0mPerson\u001b[0m\u001b[0;34m.\u001b[0m\u001b[0mfrom_yaml\u001b[0m\u001b[0;34m(\u001b[0m\u001b[0mperson_yaml\u001b[0m\u001b[0;34m)\u001b[0m\u001b[0;34m\u001b[0m\u001b[0;34m\u001b[0m\u001b[0m\n\u001b[0m\u001b[1;32m     23\u001b[0m \u001b[0mprint\u001b[0m\u001b[0;34m(\u001b[0m\u001b[0;34m\"Deserialized from YAML:\"\u001b[0m\u001b[0;34m,\u001b[0m \u001b[0mnew_person\u001b[0m\u001b[0;34m.\u001b[0m\u001b[0mname\u001b[0m\u001b[0;34m,\u001b[0m \u001b[0mnew_person\u001b[0m\u001b[0;34m.\u001b[0m\u001b[0mage\u001b[0m\u001b[0;34m)\u001b[0m\u001b[0;34m\u001b[0m\u001b[0;34m\u001b[0m\u001b[0m\n",
      "\u001b[0;32m<ipython-input-4-0be0204876ea>\u001b[0m in \u001b[0;36mfrom_yaml\u001b[0;34m(cls, yaml_data)\u001b[0m\n\u001b[1;32m     11\u001b[0m     \u001b[0;34m@\u001b[0m\u001b[0mclassmethod\u001b[0m\u001b[0;34m\u001b[0m\u001b[0;34m\u001b[0m\u001b[0m\n\u001b[1;32m     12\u001b[0m     \u001b[0;32mdef\u001b[0m \u001b[0mfrom_yaml\u001b[0m\u001b[0;34m(\u001b[0m\u001b[0mcls\u001b[0m\u001b[0;34m,\u001b[0m \u001b[0myaml_data\u001b[0m\u001b[0;34m)\u001b[0m\u001b[0;34m:\u001b[0m\u001b[0;34m\u001b[0m\u001b[0;34m\u001b[0m\u001b[0m\n\u001b[0;32m---> 13\u001b[0;31m         \u001b[0mdata\u001b[0m \u001b[0;34m=\u001b[0m \u001b[0myaml\u001b[0m\u001b[0;34m.\u001b[0m\u001b[0mload\u001b[0m\u001b[0;34m(\u001b[0m\u001b[0myaml_data\u001b[0m\u001b[0;34m,\u001b[0m \u001b[0mLoader\u001b[0m\u001b[0;34m=\u001b[0m\u001b[0myaml\u001b[0m\u001b[0;34m.\u001b[0m\u001b[0mFullLoader\u001b[0m\u001b[0;34m)\u001b[0m\u001b[0;34m\u001b[0m\u001b[0;34m\u001b[0m\u001b[0m\n\u001b[0m\u001b[1;32m     14\u001b[0m         \u001b[0;32mreturn\u001b[0m \u001b[0mcls\u001b[0m\u001b[0;34m(\u001b[0m\u001b[0mdata\u001b[0m\u001b[0;34m[\u001b[0m\u001b[0;34m\"name\"\u001b[0m\u001b[0;34m]\u001b[0m\u001b[0;34m,\u001b[0m \u001b[0mdata\u001b[0m\u001b[0;34m[\u001b[0m\u001b[0;34m\"age\"\u001b[0m\u001b[0;34m]\u001b[0m\u001b[0;34m)\u001b[0m\u001b[0;34m\u001b[0m\u001b[0;34m\u001b[0m\u001b[0m\n\u001b[1;32m     15\u001b[0m \u001b[0;34m\u001b[0m\u001b[0m\n",
      "\u001b[0;31mAttributeError\u001b[0m: module 'yaml' has no attribute 'FullLoader'"
     ]
    }
   ],
   "source": [
    "import yaml\n",
    "\n",
    "class Person:\n",
    "    def __init__(self, name, age):\n",
    "        self.name = name\n",
    "        self.age = age\n",
    "\n",
    "    def to_yaml(self):\n",
    "        return yaml.dump({\"name\": self.name, \"age\": self.age})\n",
    "\n",
    "    @classmethod\n",
    "    def from_yaml(cls, yaml_data):\n",
    "        data = yaml.load(yaml_data, Loader=yaml.FullLoader)\n",
    "        return cls(data[\"name\"], data[\"age\"])\n",
    "\n",
    "# Serialize to YAML\n",
    "person = Person(\"John\", 30)\n",
    "person_yaml = person.to_yaml()\n",
    "print(\"Serialized to YAML:\", person_yaml)\n",
    "\n",
    "# Deserialize from YAML\n",
    "new_person = Person.from_yaml(person_yaml)\n",
    "print(\"Deserialized from YAML:\", new_person.name, new_person.age)"
   ]
  },
  {
   "cell_type": "markdown",
   "metadata": {},
   "source": [
    "#### 50. Serialize and deserialize an object to/from binary format."
   ]
  },
  {
   "cell_type": "code",
   "execution_count": 5,
   "metadata": {},
   "outputs": [
    {
     "name": "stdout",
     "output_type": "stream",
     "text": [
      "Serialized to Binary: b'\\x80\\x03c__main__\\nPerson\\nq\\x00)\\x81q\\x01}q\\x02(X\\x04\\x00\\x00\\x00nameq\\x03X\\x04\\x00\\x00\\x00Johnq\\x04X\\x03\\x00\\x00\\x00ageq\\x05K\\x1eub.'\n",
      "Deserialized from Binary: John 30\n"
     ]
    }
   ],
   "source": [
    "import pickle\n",
    "\n",
    "class Person:\n",
    "    def __init__(self, name, age):\n",
    "        self.name = name\n",
    "        self.age = age\n",
    "\n",
    "# Serialize to binary\n",
    "person = Person(\"John\", 30)\n",
    "person_binary = pickle.dumps(person)\n",
    "print(\"Serialized to Binary:\", person_binary)\n",
    "\n",
    "# Deserialize from binary\n",
    "new_person = pickle.loads(person_binary)\n",
    "print(\"Deserialized from Binary:\", new_person.name, new_person.age)"
   ]
  },
  {
   "cell_type": "code",
   "execution_count": null,
   "metadata": {},
   "outputs": [],
   "source": []
  }
 ],
 "metadata": {
  "kernelspec": {
   "display_name": "Python 3",
   "language": "python",
   "name": "python3"
  },
  "language_info": {
   "codemirror_mode": {
    "name": "ipython",
    "version": 3
   },
   "file_extension": ".py",
   "mimetype": "text/x-python",
   "name": "python",
   "nbconvert_exporter": "python",
   "pygments_lexer": "ipython3",
   "version": "3.6.9"
  }
 },
 "nbformat": 4,
 "nbformat_minor": 4
}
