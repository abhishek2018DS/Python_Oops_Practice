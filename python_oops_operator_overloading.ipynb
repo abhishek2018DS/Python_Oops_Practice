{
 "cells": [
  {
   "cell_type": "markdown",
   "metadata": {},
   "source": [
    "#### 36. Overload the \"+\" operator for Vector addition."
   ]
  },
  {
   "cell_type": "code",
   "execution_count": 1,
   "metadata": {},
   "outputs": [
    {
     "name": "stdout",
     "output_type": "stream",
     "text": [
      "Vector(6, 8)\n"
     ]
    }
   ],
   "source": [
    "class Vector:\n",
    "    def __init__(self, x, y):\n",
    "        self.x = x\n",
    "        self.y = y\n",
    "\n",
    "    def __add__(self, other):\n",
    "        return Vector(self.x + other.x, self.y + other.y)\n",
    "\n",
    "    def __str__(self):\n",
    "        return f\"Vector({self.x}, {self.y})\"\n",
    "\n",
    "# Example usage:\n",
    "v1 = Vector(2, 3)\n",
    "v2 = Vector(4, 5)\n",
    "v3 = v1 + v2\n",
    "print(v3)  # Output: Vector(6, 8)"
   ]
  },
  {
   "cell_type": "markdown",
   "metadata": {},
   "source": [
    "#### 37. Overload the \"-\" operator for Vector subtraction."
   ]
  },
  {
   "cell_type": "markdown",
   "metadata": {},
   "source": [
    "\n",
    "\n",
    "```python\n",
    "class Vector:\n",
    "    def __init__(self, x, y):\n",
    "        self.x = x\n",
    "        self.y = y\n",
    "\n",
    "    def __sub__(self, other):\n",
    "        return Vector(self.x - other.x, self.y - other.y)\n",
    "\n",
    "    def __str__(self):\n",
    "        return f\"Vector({self.x}, {self.y})\"\n",
    "\n",
    "# Example usage:\n",
    "v1 = Vector(2, 3)\n",
    "v2 = Vector(4, 5)\n",
    "v3 = v1 - v2\n",
    "print(v3)  # Output: Vector(-2, -2)\n",
    "```\n",
    "\n",
    "38. Overload the \"*\" operator for scalar multiplication in a Matrix class.\n",
    "\n",
    "```python\n",
    "class Matrix:\n",
    "    def __init__(self, data):\n",
    "        self.data = data\n",
    "\n",
    "    def __mul__(self, scalar):\n",
    "        result = [[element * scalar for element in row] for row in self.data]\n",
    "        return Matrix(result)\n",
    "\n",
    "    def __str__(self):\n",
    "        return '\\n'.join([' '.join(map(str, row)) for row in self.data])\n",
    "\n",
    "# Example usage:\n",
    "matrix = Matrix([[1, 2], [3, 4]])\n",
    "scalar = 3\n",
    "result_matrix = matrix * scalar\n",
    "print(result_matrix)\n",
    "# Output:\n",
    "# 3 6\n",
    "# 9 12\n",
    "```\n",
    "\n",
    "39. Overload the \"/\" operator for scalar division in a Fraction class.\n",
    "\n",
    "```python\n",
    "class Fraction:\n",
    "    def __init__(self, numerator, denominator):\n",
    "        self.numerator = numerator\n",
    "        self.denominator = denominator\n",
    "\n",
    "    def __truediv__(self, scalar):\n",
    "        return Fraction(self.numerator, self.denominator * scalar)\n",
    "\n",
    "    def __str__(self):\n",
    "        return f\"{self.numerator}/{self.denominator}\"\n",
    "\n",
    "# Example usage:\n",
    "fraction = Fraction(3, 4)\n",
    "result_fraction = fraction / 2\n",
    "print(result_fraction)  # Output: 3/8\n",
    "```\n",
    "\n",
    "40. Overload the \"<\" and \">\" operators for comparison in a Point class.\n",
    "\n",
    "```python\n",
    "class Point:\n",
    "    def __init__(self, x, y):\n",
    "        self.x = x\n",
    "        self.y = y\n",
    "\n",
    "    def __lt__(self, other):\n",
    "        return (self.x, self.y) < (other.x, other.y)\n",
    "\n",
    "    def __gt__(self, other):\n",
    "        return (self.x, self.y) > (other.x, other.y)\n",
    "\n",
    "    def __str__(self):\n",
    "        return f\"Point({self.x}, {self.y})\"\n",
    "\n",
    "# Example usage:\n",
    "p1 = Point(2, 3)\n",
    "p2 = Point(4, 5)\n",
    "print(p1 < p2)  # Output: True\n",
    "print(p1 > p2)  # Output: False\n",
    "```\n",
    "\n",
    "These examples show how to overload operators for different classes and functionalities in Python. Let me know if you need further assistance!"
   ]
  }
 ],
 "metadata": {
  "kernelspec": {
   "display_name": "Python 3",
   "language": "python",
   "name": "python3"
  },
  "language_info": {
   "codemirror_mode": {
    "name": "ipython",
    "version": 3
   },
   "file_extension": ".py",
   "mimetype": "text/x-python",
   "name": "python",
   "nbconvert_exporter": "python",
   "pygments_lexer": "ipython3",
   "version": "3.6.9"
  }
 },
 "nbformat": 4,
 "nbformat_minor": 4
}
