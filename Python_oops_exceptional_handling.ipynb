{
 "cells": [
  {
   "cell_type": "markdown",
   "metadata": {},
   "source": [
    "#### 51. Implement custom exceptions for a specific application domain."
   ]
  },
  {
   "cell_type": "code",
   "execution_count": 1,
   "metadata": {},
   "outputs": [
    {
     "name": "stdout",
     "output_type": "stream",
     "text": [
      "Attempted to withdraw 150, but only 100 is available.\n"
     ]
    }
   ],
   "source": [
    "class InsufficientFundsException(Exception):\n",
    "    def __init__(self, balance, amount):\n",
    "        super().__init__(f\"Attempted to withdraw {amount}, but only {balance} is available.\")\n",
    "        self.balance = balance\n",
    "        self.amount = amount\n",
    "\n",
    "class Account:\n",
    "    def __init__(self, balance):\n",
    "        self.balance = balance\n",
    "\n",
    "    def withdraw(self, amount):\n",
    "        if amount > self.balance:\n",
    "            raise InsufficientFundsException(self.balance, amount)\n",
    "        self.balance -= amount\n",
    "        return self.balance\n",
    "\n",
    "# Example usage:\n",
    "account = Account(100)\n",
    "try:\n",
    "    account.withdraw(150)\n",
    "except InsufficientFundsException as e:\n",
    "    print(e)"
   ]
  },
  {
   "cell_type": "markdown",
   "metadata": {},
   "source": [
    "#### 51. Implement custom exceptions for a specific application domain."
   ]
  },
  {
   "cell_type": "code",
   "execution_count": 2,
   "metadata": {},
   "outputs": [
    {
     "name": "stdout",
     "output_type": "stream",
     "text": [
      "Cannot divide by zero.\n"
     ]
    }
   ],
   "source": [
    "class Calculator:\n",
    "    def divide(self, a, b):\n",
    "        if b == 0:\n",
    "            raise ZeroDivisionError(\"Cannot divide by zero.\")\n",
    "        return a / b\n",
    "\n",
    "# Example usage:\n",
    "calc = Calculator()\n",
    "try:\n",
    "    result = calc.divide(10, 0)\n",
    "except ZeroDivisionError as e:\n",
    "    print(e)"
   ]
  },
  {
   "cell_type": "markdown",
   "metadata": {},
   "source": [
    "#### 53. Develop a class representing a Bank Account with error handling for insufficient balance.\n"
   ]
  },
  {
   "cell_type": "code",
   "execution_count": 3,
   "metadata": {},
   "outputs": [
    {
     "name": "stdout",
     "output_type": "stream",
     "text": [
      "Insufficient balance for the transaction.\n"
     ]
    }
   ],
   "source": [
    "class InsufficientBalanceError(Exception):\n",
    "    def __init__(self, message=\"Insufficient balance for the transaction.\"):\n",
    "        self.message = message\n",
    "        super().__init__(self.message)\n",
    "\n",
    "class BankAccount:\n",
    "    def __init__(self, balance):\n",
    "        self.balance = balance\n",
    "\n",
    "    def withdraw(self, amount):\n",
    "        if amount > self.balance:\n",
    "            raise InsufficientBalanceError()\n",
    "        self.balance -= amount\n",
    "        return self.balance\n",
    "\n",
    "# Example usage:\n",
    "account = BankAccount(100)\n",
    "try:\n",
    "    account.withdraw(150)\n",
    "except InsufficientBalanceError as e:\n",
    "    print(e)"
   ]
  },
  {
   "cell_type": "markdown",
   "metadata": {},
   "source": [
    "#### 54. Create a class representing a File with error handling for file not found."
   ]
  },
  {
   "cell_type": "code",
   "execution_count": 4,
   "metadata": {},
   "outputs": [
    {
     "name": "stdout",
     "output_type": "stream",
     "text": [
      "File non_existent_file.txt not found.\n"
     ]
    }
   ],
   "source": [
    "class FileHandler:\n",
    "    def __init__(self, file_name):\n",
    "        self.file_name = file_name\n",
    "\n",
    "    def read_file(self):\n",
    "        try:\n",
    "            with open(self.file_name, 'r') as file:\n",
    "                return file.read()\n",
    "        except FileNotFoundError:\n",
    "            print(f\"File {self.file_name} not found.\")\n",
    "            return None\n",
    "\n",
    "# Example usage:\n",
    "file_handler = FileHandler(\"non_existent_file.txt\")\n",
    "content = file_handler.read_file()"
   ]
  },
  {
   "cell_type": "markdown",
   "metadata": {},
   "source": [
    "#### 55. Implement a class representing a Database with error handling for connection failure."
   ]
  },
  {
   "cell_type": "code",
   "execution_count": 5,
   "metadata": {},
   "outputs": [
    {
     "name": "stdout",
     "output_type": "stream",
     "text": [
      "Failed to connect to the database.\n"
     ]
    }
   ],
   "source": [
    "class DatabaseConnectionError(Exception):\n",
    "    def __init__(self, message=\"Failed to connect to the database.\"):\n",
    "        self.message = message\n",
    "        super().__init__(self.message)\n",
    "\n",
    "class Database:\n",
    "    def __init__(self, connected=False):\n",
    "        self.connected = connected\n",
    "\n",
    "    def connect(self):\n",
    "        if not self.connected:\n",
    "            raise DatabaseConnectionError()\n",
    "        return \"Connected to the database.\"\n",
    "\n",
    "# Example usage:\n",
    "db = Database()\n",
    "try:\n",
    "    db.connect()\n",
    "except DatabaseConnectionError as e:\n",
    "    print(e)"
   ]
  },
  {
   "cell_type": "code",
   "execution_count": null,
   "metadata": {},
   "outputs": [],
   "source": []
  }
 ],
 "metadata": {
  "kernelspec": {
   "display_name": "Python 3",
   "language": "python",
   "name": "python3"
  },
  "language_info": {
   "codemirror_mode": {
    "name": "ipython",
    "version": 3
   },
   "file_extension": ".py",
   "mimetype": "text/x-python",
   "name": "python",
   "nbconvert_exporter": "python",
   "pygments_lexer": "ipython3",
   "version": "3.6.9"
  }
 },
 "nbformat": 4,
 "nbformat_minor": 4
}
