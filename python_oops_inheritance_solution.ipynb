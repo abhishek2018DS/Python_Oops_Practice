{
 "cells": [
  {
   "cell_type": "markdown",
   "metadata": {},
   "source": [
    "#### 6. Create a base class Animal with methods like eat and sleep, and derive classes like Dog, Cat, etc."
   ]
  },
  {
   "cell_type": "code",
   "execution_count": 1,
   "metadata": {},
   "outputs": [
    {
     "name": "stdout",
     "output_type": "stream",
     "text": [
      "Animal is eating\n",
      "Animal is sleeping\n",
      "Dog is barking\n",
      "Animal is eating\n",
      "Animal is sleeping\n",
      "Cat is meowing\n"
     ]
    }
   ],
   "source": [
    "class Animal:\n",
    "    def eat(self):\n",
    "        print(\"Animal is eating\")\n",
    "\n",
    "    def sleep(self):\n",
    "        print(\"Animal is sleeping\")\n",
    "\n",
    "class Dog(Animal):\n",
    "    def bark(self):\n",
    "        print(\"Dog is barking\")\n",
    "\n",
    "class Cat(Animal):\n",
    "    def meow(self):\n",
    "        print(\"Cat is meowing\")\n",
    "\n",
    "# Example usage:\n",
    "dog = Dog()\n",
    "dog.eat()\n",
    "dog.sleep()\n",
    "dog.bark()\n",
    "\n",
    "cat = Cat()\n",
    "cat.eat()\n",
    "cat.sleep()\n",
    "cat.meow()"
   ]
  },
  {
   "cell_type": "markdown",
   "metadata": {},
   "source": [
    "#### 7. Design a hierarchy for Vehicles with classes like Car, Bicycle, and Truck inheriting from a Vehicle base class."
   ]
  },
  {
   "cell_type": "code",
   "execution_count": 2,
   "metadata": {},
   "outputs": [
    {
     "name": "stdout",
     "output_type": "stream",
     "text": [
      "Vehicle is moving\n",
      "Car is honking\n",
      "Vehicle is moving\n",
      "Bicycle is ringing bell\n",
      "Vehicle is moving\n",
      "Truck is loading cargo\n"
     ]
    }
   ],
   "source": [
    "class Vehicle:\n",
    "    def move(self):\n",
    "        print(\"Vehicle is moving\")\n",
    "\n",
    "class Car(Vehicle):\n",
    "    def honk(self):\n",
    "        print(\"Car is honking\")\n",
    "\n",
    "class Bicycle(Vehicle):\n",
    "    def ring_bell(self):\n",
    "        print(\"Bicycle is ringing bell\")\n",
    "\n",
    "class Truck(Vehicle):\n",
    "    def load_cargo(self):\n",
    "        print(\"Truck is loading cargo\")\n",
    "\n",
    "# Example usage:\n",
    "car = Car()\n",
    "car.move()\n",
    "car.honk()\n",
    "\n",
    "bicycle = Bicycle()\n",
    "bicycle.move()\n",
    "bicycle.ring_bell()\n",
    "\n",
    "truck = Truck()\n",
    "truck.move()\n",
    "truck.load_cargo()"
   ]
  },
  {
   "cell_type": "markdown",
   "metadata": {},
   "source": [
    "#### 8. Implement a class representing a Shape and derive subclasses like Circle, Rectangle, etc."
   ]
  },
  {
   "cell_type": "code",
   "execution_count": 3,
   "metadata": {},
   "outputs": [
    {
     "name": "stdout",
     "output_type": "stream",
     "text": [
      "Area of the circle: 78.53981633974483\n",
      "Perimeter of the circle: 31.41592653589793\n",
      "Area of the rectangle: 24\n",
      "Perimeter of the rectangle: 20\n"
     ]
    }
   ],
   "source": [
    "import math\n",
    "\n",
    "class Shape:\n",
    "    def calculate_area(self):\n",
    "        pass\n",
    "\n",
    "    def calculate_perimeter(self):\n",
    "        pass\n",
    "\n",
    "class Circle(Shape):\n",
    "    def __init__(self, radius):\n",
    "        self.radius = radius\n",
    "\n",
    "    def calculate_area(self):\n",
    "        return math.pi * self.radius ** 2\n",
    "\n",
    "    def calculate_perimeter(self):\n",
    "        return 2 * math.pi * self.radius\n",
    "\n",
    "class Rectangle(Shape):\n",
    "    def __init__(self, length, width):\n",
    "        self.length = length\n",
    "        self.width = width\n",
    "\n",
    "    def calculate_area(self):\n",
    "        return self.length * self.width\n",
    "\n",
    "    def calculate_perimeter(self):\n",
    "        return 2 * (self.length + self.width)\n",
    "\n",
    "# Example usage:\n",
    "circle = Circle(5)\n",
    "print(\"Area of the circle:\", circle.calculate_area())\n",
    "print(\"Perimeter of the circle:\", circle.calculate_perimeter())\n",
    "\n",
    "rectangle = Rectangle(4, 6)\n",
    "print(\"Area of the rectangle:\", rectangle.calculate_area())\n",
    "print(\"Perimeter of the rectangle:\", rectangle.calculate_perimeter())"
   ]
  },
  {
   "cell_type": "markdown",
   "metadata": {},
   "source": [
    "#### 9. Create a class representing a Person with subclasses like Student, Teacher, etc."
   ]
  },
  {
   "cell_type": "code",
   "execution_count": 4,
   "metadata": {},
   "outputs": [
    {
     "name": "stdout",
     "output_type": "stream",
     "text": [
      "Student: John\n",
      "Age: 20\n",
      "Student ID: S1234\n",
      "Teacher: Alice\n",
      "Age: 35\n",
      "Subject: Math\n"
     ]
    }
   ],
   "source": [
    "class Person:\n",
    "    def __init__(self, name, age):\n",
    "        self.name = name\n",
    "        self.age = age\n",
    "\n",
    "class Student(Person):\n",
    "    def __init__(self, name, age, student_id):\n",
    "        super().__init__(name, age)\n",
    "        self.student_id = student_id\n",
    "\n",
    "class Teacher(Person):\n",
    "    def __init__(self, name, age, subject):\n",
    "        super().__init__(name, age)\n",
    "        self.subject = subject\n",
    "\n",
    "# Example usage:\n",
    "student = Student(\"John\", 20, \"S1234\")\n",
    "print(\"Student:\", student.name)\n",
    "print(\"Age:\", student.age)\n",
    "print(\"Student ID:\", student.student_id)\n",
    "\n",
    "teacher = Teacher(\"Alice\", 35, \"Math\")\n",
    "print(\"Teacher:\", teacher.name)\n",
    "print(\"Age:\", teacher.age)\n",
    "print(\"Subject:\", teacher.subject)"
   ]
  },
  {
   "cell_type": "markdown",
   "metadata": {},
   "source": [
    "#### 10. Develop a class hierarchy for Employees with subclasses like Manager, Engineer, etc."
   ]
  },
  {
   "cell_type": "markdown",
   "metadata": {},
   "source": [
    "\n",
    "\n",
    "\n",
    "```python\n",
    "class Employee:\n",
    "    def __init__(self, name, age, employee_id):\n",
    "        self.name = name\n",
    "        self.age = age\n",
    "        self.employee_id = employee_id\n",
    "\n",
    "class Manager(Employee):\n",
    "    def __init__(self, name, age, employee_id, department):\n",
    "        super().__init__(name, age, employee_id)\n",
    "        self.department = department\n",
    "\n",
    "class Engineer(Employee):\n",
    "    def __init__(self, name, age, employee_id, specialization):\n",
    "        super().__init__(name, age, employee_id)\n",
    "        self.specialization = specialization\n",
    "\n",
    "# Example usage:\n",
    "manager = Manager(\"Alice\", 40, \"M1234\", \"HR\")\n",
    "print(\"Manager:\", manager.name)\n",
    "print(\"Age:\", manager.age)\n",
    "print(\"Employee ID:\", manager.employee_id)\n",
    "print(\"Department:\", manager.department)\n",
    "\n",
    "engineer = Engineer(\"Bob\", 30, \"E5678\", \"Software\")\n",
    "print(\"Engineer:\", engineer.name)\n",
    "print(\"Age:\", engineer.age)\n",
    "print(\"Employee ID:\", engineer.employee_id)\n",
    "print(\"Specialization:\", engineer.specialization)\n",
    "```\n",
    "\n",
    "These are the implementations for the inheritance problems you requested. Let me know if you need further assistance!"
   ]
  }
 ],
 "metadata": {
  "kernelspec": {
   "display_name": "Python 3",
   "language": "python",
   "name": "python3"
  },
  "language_info": {
   "codemirror_mode": {
    "name": "ipython",
    "version": 3
   },
   "file_extension": ".py",
   "mimetype": "text/x-python",
   "name": "python",
   "nbconvert_exporter": "python",
   "pygments_lexer": "ipython3",
   "version": "3.6.9"
  }
 },
 "nbformat": 4,
 "nbformat_minor": 4
}
