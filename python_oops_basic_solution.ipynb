{
 "cells": [
  {
   "cell_type": "markdown",
   "metadata": {},
   "source": [
    "#### 1. Create a class representing a Circle with methods to calculate area and circumference."
   ]
  },
  {
   "cell_type": "code",
   "execution_count": 1,
   "metadata": {},
   "outputs": [
    {
     "name": "stdout",
     "output_type": "stream",
     "text": [
      "Area of the circle: 78.53981633974483\n",
      "Circumference of the circle: 31.41592653589793\n"
     ]
    }
   ],
   "source": [
    "import math\n",
    "\n",
    "class Circle:\n",
    "    def __init__(self, radius):\n",
    "        self.radius = radius\n",
    "\n",
    "    def calculate_area(self):\n",
    "        return math.pi * self.radius ** 2\n",
    "\n",
    "    def calculate_circumference(self):\n",
    "        return 2 * math.pi * self.radius\n",
    "\n",
    "# Example usage:\n",
    "circle = Circle(5)\n",
    "print(\"Area of the circle:\", circle.calculate_area())\n",
    "print(\"Circumference of the circle:\", circle.calculate_circumference())"
   ]
  },
  {
   "cell_type": "markdown",
   "metadata": {},
   "source": [
    "#### 2. Implement a class representing a Rectangle with methods to calculate area and perimeter."
   ]
  },
  {
   "cell_type": "code",
   "execution_count": 2,
   "metadata": {},
   "outputs": [
    {
     "name": "stdout",
     "output_type": "stream",
     "text": [
      "Area of the rectangle: 24\n",
      "Perimeter of the rectangle: 20\n"
     ]
    }
   ],
   "source": [
    "class Rectangle:\n",
    "    def __init__(self, length, width):\n",
    "        self.length = length\n",
    "        self.width = width\n",
    "\n",
    "    def calculate_area(self):\n",
    "        return self.length * self.width\n",
    "\n",
    "    def calculate_perimeter(self):\n",
    "        return 2 * (self.length + self.width)\n",
    "\n",
    "# Example usage:\n",
    "rectangle = Rectangle(4, 6)\n",
    "print(\"Area of the rectangle:\", rectangle.calculate_area())\n",
    "print(\"Perimeter of the rectangle:\", rectangle.calculate_perimeter())"
   ]
  },
  {
   "cell_type": "markdown",
   "metadata": {},
   "source": [
    "#### 3. Create a class representing a Student with attributes like name, age, and methods to update them."
   ]
  },
  {
   "cell_type": "code",
   "execution_count": 3,
   "metadata": {},
   "outputs": [
    {
     "name": "stdout",
     "output_type": "stream",
     "text": [
      "Name: John\n",
      "Age: 20\n",
      "Updated Name: Alice\n",
      "Updated Age: 22\n"
     ]
    }
   ],
   "source": [
    "class Student:\n",
    "    def __init__(self, name, age):\n",
    "        self.name = name\n",
    "        self.age = age\n",
    "\n",
    "    def update_name(self, new_name):\n",
    "        self.name = new_name\n",
    "\n",
    "    def update_age(self, new_age):\n",
    "        self.age = new_age\n",
    "\n",
    "# Example usage:\n",
    "student = Student(\"John\", 20)\n",
    "print(\"Name:\", student.name)\n",
    "print(\"Age:\", student.age)\n",
    "student.update_name(\"Alice\")\n",
    "student.update_age(22)\n",
    "print(\"Updated Name:\", student.name)\n",
    "print(\"Updated Age:\", student.age)"
   ]
  },
  {
   "cell_type": "markdown",
   "metadata": {},
   "source": [
    "#### 4. Design a class to represent a Bank Account with methods for deposit, withdraw, and check balance."
   ]
  },
  {
   "cell_type": "code",
   "execution_count": 4,
   "metadata": {},
   "outputs": [
    {
     "name": "stdout",
     "output_type": "stream",
     "text": [
      "Initial balance: 0\n",
      "Balance after deposit: 1000\n",
      "Balance after withdrawal: 500\n"
     ]
    }
   ],
   "source": [
    "class BankAccount:\n",
    "    def __init__(self, balance=0):\n",
    "        self.balance = balance\n",
    "\n",
    "    def deposit(self, amount):\n",
    "        self.balance += amount\n",
    "\n",
    "    def withdraw(self, amount):\n",
    "        if amount <= self.balance:\n",
    "            self.balance -= amount\n",
    "        else:\n",
    "            print(\"Insufficient balance\")\n",
    "\n",
    "    def check_balance(self):\n",
    "        return self.balance\n",
    "\n",
    "# Example usage:\n",
    "account = BankAccount()\n",
    "print(\"Initial balance:\", account.check_balance())\n",
    "account.deposit(1000)\n",
    "print(\"Balance after deposit:\", account.check_balance())\n",
    "account.withdraw(500)\n",
    "print(\"Balance after withdrawal:\", account.check_balance())"
   ]
  },
  {
   "cell_type": "markdown",
   "metadata": {},
   "source": [
    "#### 5. Develop a class hierarchy for Shapes with subclasses like Circle, Rectangle, Square, etc."
   ]
  },
  {
   "cell_type": "code",
   "execution_count": 5,
   "metadata": {},
   "outputs": [
    {
     "name": "stdout",
     "output_type": "stream",
     "text": [
      "Area of the circle: 78.53981633974483\n",
      "Perimeter of the circle: 31.41592653589793\n",
      "Area of the rectangle: 24\n",
      "Perimeter of the rectangle: 20\n",
      "Area of the square: 16\n",
      "Perimeter of the square: 16\n"
     ]
    }
   ],
   "source": [
    "class Shape:\n",
    "    def calculate_area(self):\n",
    "        pass\n",
    "\n",
    "    def calculate_perimeter(self):\n",
    "        pass\n",
    "\n",
    "class Circle(Shape):\n",
    "    def __init__(self, radius):\n",
    "        self.radius = radius\n",
    "\n",
    "    def calculate_area(self):\n",
    "        return math.pi * self.radius ** 2\n",
    "\n",
    "    def calculate_perimeter(self):\n",
    "        return 2 * math.pi * self.radius\n",
    "\n",
    "class Rectangle(Shape):\n",
    "    def __init__(self, length, width):\n",
    "        self.length = length\n",
    "        self.width = width\n",
    "\n",
    "    def calculate_area(self):\n",
    "        return self.length * self.width\n",
    "\n",
    "    def calculate_perimeter(self):\n",
    "        return 2 * (self.length + self.width)\n",
    "\n",
    "class Square(Rectangle):\n",
    "    def __init__(self, side):\n",
    "        super().__init__(side, side)\n",
    "\n",
    "# Example usage:\n",
    "circle = Circle(5)\n",
    "print(\"Area of the circle:\", circle.calculate_area())\n",
    "print(\"Perimeter of the circle:\", circle.calculate_perimeter())\n",
    "\n",
    "rectangle = Rectangle(4, 6)\n",
    "print(\"Area of the rectangle:\", rectangle.calculate_area())\n",
    "print(\"Perimeter of the rectangle:\", rectangle.calculate_perimeter())\n",
    "\n",
    "square = Square(4)\n",
    "print(\"Area of the square:\", square.calculate_area())\n",
    "print(\"Perimeter of the square:\", square.calculate_perimeter())"
   ]
  },
  {
   "cell_type": "code",
   "execution_count": null,
   "metadata": {},
   "outputs": [],
   "source": []
  }
 ],
 "metadata": {
  "kernelspec": {
   "display_name": "Python 3",
   "language": "python",
   "name": "python3"
  },
  "language_info": {
   "codemirror_mode": {
    "name": "ipython",
    "version": 3
   },
   "file_extension": ".py",
   "mimetype": "text/x-python",
   "name": "python",
   "nbconvert_exporter": "python",
   "pygments_lexer": "ipython3",
   "version": "3.6.9"
  }
 },
 "nbformat": 4,
 "nbformat_minor": 4
}
