{
 "cells": [
  {
   "cell_type": "markdown",
   "metadata": {},
   "source": [
    "#### 26. Create a class representing a Car with a composition relationship with Engine and Wheel classes."
   ]
  },
  {
   "cell_type": "code",
   "execution_count": 1,
   "metadata": {},
   "outputs": [
    {
     "name": "stdout",
     "output_type": "stream",
     "text": [
      "Engine with 200 horsepower is starting.\n",
      "['Wheel with size 17 is rotating.', 'Wheel with size 17 is rotating.', 'Wheel with size 17 is rotating.', 'Wheel with size 17 is rotating.']\n"
     ]
    }
   ],
   "source": [
    "class Engine:\n",
    "    def __init__(self, horsepower):\n",
    "        self.horsepower = horsepower\n",
    "\n",
    "    def start(self):\n",
    "        return \"Engine with {} horsepower is starting.\".format(self.horsepower)\n",
    "\n",
    "class Wheel:\n",
    "    def __init__(self, size):\n",
    "        self.size = size\n",
    "\n",
    "    def rotate(self):\n",
    "        return \"Wheel with size {} is rotating.\".format(self.size)\n",
    "\n",
    "class Car:\n",
    "    def __init__(self, engine, wheels):\n",
    "        self.engine = engine\n",
    "        self.wheels = wheels\n",
    "\n",
    "    def start(self):\n",
    "        return self.engine.start()\n",
    "\n",
    "    def move(self):\n",
    "        return [wheel.rotate() for wheel in self.wheels]\n",
    "\n",
    "# Example usage:\n",
    "engine = Engine(200)\n",
    "wheels = [Wheel(17), Wheel(17), Wheel(17), Wheel(17)]\n",
    "car = Car(engine, wheels)\n",
    "print(car.start())\n",
    "print(car.move())"
   ]
  },
  {
   "cell_type": "markdown",
   "metadata": {},
   "source": [
    "### 27. Implement a class representing a House with composition relationships with Room classes."
   ]
  },
  {
   "cell_type": "code",
   "execution_count": 2,
   "metadata": {},
   "outputs": [
    {
     "name": "stdout",
     "output_type": "stream",
     "text": [
      "['Living Room with area 300 sqft', 'Bedroom with area 200 sqft', 'Kitchen with area 150 sqft']\n"
     ]
    }
   ],
   "source": [
    "class Room:\n",
    "    def __init__(self, name, area):\n",
    "        self.name = name\n",
    "        self.area = area\n",
    "\n",
    "    def describe(self):\n",
    "        return \"{} with area {} sqft\".format(self.name, self.area)\n",
    "\n",
    "class House:\n",
    "    def __init__(self, rooms):\n",
    "        self.rooms = rooms\n",
    "\n",
    "    def describe(self):\n",
    "        return [room.describe() for room in self.rooms]\n",
    "\n",
    "# Example usage:\n",
    "rooms = [Room(\"Living Room\", 300), Room(\"Bedroom\", 200), Room(\"Kitchen\", 150)]\n",
    "house = House(rooms)\n",
    "print(house.describe())"
   ]
  },
  {
   "cell_type": "markdown",
   "metadata": {},
   "source": [
    "#### 28. Design a class representing a Computer with composition relationships with CPU, RAM, and HardDrive classes."
   ]
  },
  {
   "cell_type": "code",
   "execution_count": 3,
   "metadata": {},
   "outputs": [
    {
     "name": "stdout",
     "output_type": "stream",
     "text": [
      "['CPU Model: Intel i7, Speed: 3.5GHz', 'RAM Size: 16GB', 'Hard Drive Capacity: 1TB']\n"
     ]
    }
   ],
   "source": [
    "class CPU:\n",
    "    def __init__(self, model, speed):\n",
    "        self.model = model\n",
    "        self.speed = speed\n",
    "\n",
    "    def details(self):\n",
    "        return \"CPU Model: {}, Speed: {}GHz\".format(self.model, self.speed)\n",
    "\n",
    "class RAM:\n",
    "    def __init__(self, size):\n",
    "        self.size = size\n",
    "\n",
    "    def details(self):\n",
    "        return \"RAM Size: {}GB\".format(self.size)\n",
    "\n",
    "class HardDrive:\n",
    "    def __init__(self, capacity):\n",
    "        self.capacity = capacity\n",
    "\n",
    "    def details(self):\n",
    "        return \"Hard Drive Capacity: {}TB\".format(self.capacity)\n",
    "\n",
    "class Computer:\n",
    "    def __init__(self, cpu, ram, hard_drive):\n",
    "        self.cpu = cpu\n",
    "        self.ram = ram\n",
    "        self.hard_drive = hard_drive\n",
    "\n",
    "    def details(self):\n",
    "        return [self.cpu.details(), self.ram.details(), self.hard_drive.details()]\n",
    "\n",
    "# Example usage:\n",
    "cpu = CPU(\"Intel i7\", 3.5)\n",
    "ram = RAM(16)\n",
    "hard_drive = HardDrive(1)\n",
    "computer = Computer(cpu, ram, hard_drive)\n",
    "print(computer.details())"
   ]
  },
  {
   "cell_type": "markdown",
   "metadata": {},
   "source": [
    "#### 29. Develop a class representing a Company with composition relationships with Employee classes."
   ]
  },
  {
   "cell_type": "code",
   "execution_count": 4,
   "metadata": {},
   "outputs": [
    {
     "name": "stdout",
     "output_type": "stream",
     "text": [
      "['Employee Name: John, Position: Manager', 'Employee Name: Alice, Position: Engineer', 'Employee Name: Bob, Position: Analyst']\n"
     ]
    }
   ],
   "source": [
    "class Employee:\n",
    "    def __init__(self, name, position):\n",
    "        self.name = name\n",
    "        self.position = position\n",
    "\n",
    "    def details(self):\n",
    "        return \"Employee Name: {}, Position: {}\".format(self.name, self.position)\n",
    "\n",
    "class Company:\n",
    "    def __init__(self, employees):\n",
    "        self.employees = employees\n",
    "\n",
    "    def details(self):\n",
    "        return [employee.details() for employee in self.employees]\n",
    "\n",
    "# Example usage:\n",
    "employees = [Employee(\"John\", \"Manager\"), Employee(\"Alice\", \"Engineer\"), Employee(\"Bob\", \"Analyst\")]\n",
    "company = Company(employees)\n",
    "print(company.details())"
   ]
  },
  {
   "cell_type": "markdown",
   "metadata": {},
   "source": [
    "#### 30. Create a class representing a School with composition relationships with Classroom and Teacher classes."
   ]
  },
  {
   "cell_type": "markdown",
   "metadata": {},
   "source": [
    "\n",
    "\n",
    "```python\n",
    "\n",
    "```\n",
    "\n",
    "\n",
    "\n",
    "```python\n",
    "\n",
    "```\n",
    "\n",
    "\n",
    "\n",
    "```python\n",
    "\n",
    "```\n",
    "\n",
    "\n",
    "\n",
    "```python\n",
    "\n",
    "```\n",
    "\n",
    "\n",
    "```python\n",
    "class Teacher:\n",
    "    def __init__(self, name, subject):\n",
    "        self.name = name\n",
    "        self.subject = subject\n",
    "\n",
    "    def details(self):\n",
    "        return \"Teacher: {}, Subject: {}\".format(self.name, self.subject)\n",
    "\n",
    "class Classroom:\n",
    "    def __init__(self, number, students):\n",
    "        self.number = number\n",
    "        self.students = students\n",
    "\n",
    "    def details(self):\n",
    "        return \"Classroom Number: {}, Students: {}\".format(self.number, self.students)\n",
    "\n",
    "class School:\n",
    "    def __init__(self, classrooms, teachers):\n",
    "        self.classrooms = classrooms\n",
    "        self.teachers = teachers\n",
    "\n",
    "    def details(self):\n",
    "        classroom_details = [classroom.details() for classroom in self.classrooms]\n",
    "        teacher_details = [teacher.details() for teacher in self.teachers]\n",
    "        return {\"Classrooms\": classroom_details, \"Teachers\": teacher_details}\n",
    "\n",
    "# Example usage:\n",
    "classrooms = [Classroom(101, 30), Classroom(102, 25)]\n",
    "teachers = [Teacher(\"Mr. Smith\", \"Math\"), Teacher(\"Ms. Johnson\", \"English\")]\n",
    "school = School(classrooms, teachers)\n",
    "print(school.details())\n",
    "```\n",
    "\n",
    "These are the implementations for the composition problems you requested. Let me know if you need further assistance!"
   ]
  }
 ],
 "metadata": {
  "kernelspec": {
   "display_name": "Python 3",
   "language": "python",
   "name": "python3"
  },
  "language_info": {
   "codemirror_mode": {
    "name": "ipython",
    "version": 3
   },
   "file_extension": ".py",
   "mimetype": "text/x-python",
   "name": "python",
   "nbconvert_exporter": "python",
   "pygments_lexer": "ipython3",
   "version": "3.6.9"
  }
 },
 "nbformat": 4,
 "nbformat_minor": 4
}
