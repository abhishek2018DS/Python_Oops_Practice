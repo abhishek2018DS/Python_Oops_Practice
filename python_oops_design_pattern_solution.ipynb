{
 "cells": [
  {
   "cell_type": "markdown",
   "metadata": {},
   "source": [
    "#### 41. Implement the Singleton design pattern for a Logger class."
   ]
  },
  {
   "cell_type": "code",
   "execution_count": 1,
   "metadata": {},
   "outputs": [
    {
     "name": "stdout",
     "output_type": "stream",
     "text": [
      "True\n"
     ]
    }
   ],
   "source": [
    "class Logger:\n",
    "    _instance = None\n",
    "\n",
    "    def __new__(cls):\n",
    "        if cls._instance is None:\n",
    "            cls._instance = super(Logger, cls).__new__(cls)\n",
    "            cls._instance.log_file = \"logfile.log\"\n",
    "        return cls._instance\n",
    "\n",
    "    def log(self, message):\n",
    "        with open(self.log_file, 'a') as file:\n",
    "            file.write(message + '\\n')\n",
    "\n",
    "# Example usage:\n",
    "logger1 = Logger()\n",
    "logger2 = Logger()\n",
    "\n",
    "print(logger1 is logger2)  # Output: True\n",
    "\n",
    "logger1.log(\"This is a log message.\")"
   ]
  },
  {
   "cell_type": "markdown",
   "metadata": {},
   "source": [
    "#### 42. Design a Factory class to create objects based on input parameters."
   ]
  },
  {
   "cell_type": "code",
   "execution_count": 2,
   "metadata": {},
   "outputs": [
    {
     "name": "stdout",
     "output_type": "stream",
     "text": [
      "Drawing a Circle\n",
      "Drawing a Square\n"
     ]
    }
   ],
   "source": [
    "class Shape:\n",
    "    def draw(self):\n",
    "        pass\n",
    "\n",
    "class Circle(Shape):\n",
    "    def draw(self):\n",
    "        return \"Drawing a Circle\"\n",
    "\n",
    "class Square(Shape):\n",
    "    def draw(self):\n",
    "        return \"Drawing a Square\"\n",
    "\n",
    "class ShapeFactory:\n",
    "    @staticmethod\n",
    "    def get_shape(shape_type):\n",
    "        if shape_type == \"Circle\":\n",
    "            return Circle()\n",
    "        elif shape_type == \"Square\":\n",
    "            return Square()\n",
    "        return None\n",
    "\n",
    "# Example usage:\n",
    "factory = ShapeFactory()\n",
    "shape1 = factory.get_shape(\"Circle\")\n",
    "shape2 = factory.get_shape(\"Square\")\n",
    "\n",
    "print(shape1.draw())  # Output: Drawing a Circle\n",
    "print(shape2.draw())  # Output: Drawing a Square"
   ]
  },
  {
   "cell_type": "markdown",
   "metadata": {},
   "source": [
    "#### 43. Develop a class representing a File Logger with the Strategy design pattern for log output."
   ]
  },
  {
   "cell_type": "code",
   "execution_count": 3,
   "metadata": {},
   "outputs": [
    {
     "name": "stdout",
     "output_type": "stream",
     "text": [
      "This is a console log message.\n"
     ]
    }
   ],
   "source": [
    "class LogStrategy:\n",
    "    def log(self, message):\n",
    "        pass\n",
    "\n",
    "class ConsoleLogStrategy(LogStrategy):\n",
    "    def log(self, message):\n",
    "        print(message)\n",
    "\n",
    "class FileLogStrategy(LogStrategy):\n",
    "    def __init__(self, file_name):\n",
    "        self.file_name = file_name\n",
    "\n",
    "    def log(self, message):\n",
    "        with open(self.file_name, 'a') as file:\n",
    "            file.write(message + '\\n')\n",
    "\n",
    "class Logger:\n",
    "    def __init__(self, strategy: LogStrategy):\n",
    "        self.strategy = strategy\n",
    "\n",
    "    def log(self, message):\n",
    "        self.strategy.log(message)\n",
    "\n",
    "# Example usage:\n",
    "console_logger = Logger(ConsoleLogStrategy())\n",
    "file_logger = Logger(FileLogStrategy(\"logfile.log\"))\n",
    "\n",
    "console_logger.log(\"This is a console log message.\")\n",
    "file_logger.log(\"This is a file log message.\")"
   ]
  },
  {
   "cell_type": "markdown",
   "metadata": {},
   "source": [
    "\n",
    "\n",
    "```python\n",
    "\n",
    "\n",
    "\n",
    "\n",
    "```python\n",
    "\n",
    "```\n",
    "\n",
    "\n",
    "\n",
    "```python\n",
    "\n",
    "```\n",
    "\n",
    "44. Create a class representing a Cache with the Observer design pattern for invalidation notifications.\n",
    "\n",
    "```python\n",
    "class Observer:\n",
    "    def update(self, message):\n",
    "        pass\n",
    "\n",
    "class CacheObserver(Observer):\n",
    "    def update(self, message):\n",
    "        print(f\"Cache invalidated: {message}\")\n",
    "\n",
    "class Cache:\n",
    "    def __init__(self):\n",
    "        self._observers = []\n",
    "        self._cache_data = {}\n",
    "\n",
    "    def add_observer(self, observer: Observer):\n",
    "        self._observers.append(observer)\n",
    "\n",
    "    def remove_observer(self, observer: Observer):\n",
    "        self._observers.remove(observer)\n",
    "\n",
    "    def notify_observers(self, message):\n",
    "        for observer in self._observers:\n",
    "            observer.update(message)\n",
    "\n",
    "    def set(self, key, value):\n",
    "        self._cache_data[key] = value\n",
    "        self.notify_observers(f\"Set {key} to {value}\")\n",
    "\n",
    "    def get(self, key):\n",
    "        return self._cache_data.get(key, None)\n",
    "\n",
    "# Example usage:\n",
    "cache = Cache()\n",
    "observer = CacheObserver()\n",
    "\n",
    "cache.add_observer(observer)\n",
    "cache.set(\"user_id_1\", \"John Doe\")\n",
    "\n",
    "# Output: Cache invalidated: Set user_id_1 to John Doe\n",
    "```\n",
    "\n",
    "45. Implement the Command design pattern for a simple calculator application.\n",
    "\n",
    "```python\n",
    "class Command:\n",
    "    def execute(self):\n",
    "        pass\n",
    "\n",
    "class AddCommand(Command):\n",
    "    def __init__(self, value):\n",
    "        self.value = value\n",
    "\n",
    "    def execute(self, current):\n",
    "        return current + self.value\n",
    "\n",
    "class SubtractCommand(Command):\n",
    "    def __init__(self, value):\n",
    "        self.value = value\n",
    "\n",
    "    def execute(self, current):\n",
    "        return current - self.value\n",
    "\n",
    "class Calculator:\n",
    "    def __init__(self):\n",
    "        self.current = 0\n",
    "        self.history = []\n",
    "\n",
    "    def execute_command(self, command):\n",
    "        self.current = command.execute(self.current)\n",
    "        self.history.append(command)\n",
    "\n",
    "    def get_current_value(self):\n",
    "        return self.current\n",
    "\n",
    "# Example usage:\n",
    "calc = Calculator()\n",
    "calc.execute_command(AddCommand(10))\n",
    "calc.execute_command(SubtractCommand(5))\n",
    "\n",
    "print(calc.get_current_value())  # Output: 5\n",
    "```\n",
    "\n",
    "These examples illustrate how to implement various design patterns in Python. Let me know if you need further assistance!"
   ]
  }
 ],
 "metadata": {
  "kernelspec": {
   "display_name": "Python 3",
   "language": "python",
   "name": "python3"
  },
  "language_info": {
   "codemirror_mode": {
    "name": "ipython",
    "version": 3
   },
   "file_extension": ".py",
   "mimetype": "text/x-python",
   "name": "python",
   "nbconvert_exporter": "python",
   "pygments_lexer": "ipython3",
   "version": "3.6.9"
  }
 },
 "nbformat": 4,
 "nbformat_minor": 4
}
