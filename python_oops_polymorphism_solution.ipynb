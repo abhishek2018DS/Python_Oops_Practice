{
 "cells": [
  {
   "cell_type": "markdown",
   "metadata": {},
   "source": [
    "#### 11. Implement method overriding in a class hierarchy."
   ]
  },
  {
   "cell_type": "code",
   "execution_count": 1,
   "metadata": {},
   "outputs": [
    {
     "name": "stdout",
     "output_type": "stream",
     "text": [
      "Woof!\n",
      "Meow!\n"
     ]
    }
   ],
   "source": [
    "class Animal:\n",
    "    def make_sound(self):\n",
    "        pass\n",
    "\n",
    "class Dog(Animal):\n",
    "    def make_sound(self):\n",
    "        print(\"Woof!\")\n",
    "\n",
    "class Cat(Animal):\n",
    "    def make_sound(self):\n",
    "        print(\"Meow!\")\n",
    "\n",
    "# Example usage:\n",
    "dog = Dog()\n",
    "dog.make_sound()  # Output: Woof!\n",
    "\n",
    "cat = Cat()\n",
    "cat.make_sound()  # Output: Meow!"
   ]
  },
  {
   "cell_type": "markdown",
   "metadata": {},
   "source": [
    "#### 12. Create a class representing a Shape with a method to calculate area, and override it in subclasses."
   ]
  },
  {
   "cell_type": "code",
   "execution_count": 2,
   "metadata": {},
   "outputs": [
    {
     "name": "stdout",
     "output_type": "stream",
     "text": [
      "Area of the circle: 78.5\n",
      "Area of the rectangle: 24\n"
     ]
    }
   ],
   "source": [
    "class Shape:\n",
    "    def calculate_area(self):\n",
    "        pass\n",
    "\n",
    "class Circle(Shape):\n",
    "    def __init__(self, radius):\n",
    "        self.radius = radius\n",
    "\n",
    "    def calculate_area(self):\n",
    "        return 3.14 * self.radius ** 2\n",
    "\n",
    "class Rectangle(Shape):\n",
    "    def __init__(self, length, width):\n",
    "        self.length = length\n",
    "        self.width = width\n",
    "\n",
    "    def calculate_area(self):\n",
    "        return self.length * self.width\n",
    "\n",
    "# Example usage:\n",
    "circle = Circle(5)\n",
    "print(\"Area of the circle:\", circle.calculate_area())  # Output: 78.5\n",
    "\n",
    "rectangle = Rectangle(4, 6)\n",
    "print(\"Area of the rectangle:\", rectangle.calculate_area())  # Output: 24"
   ]
  },
  {
   "cell_type": "markdown",
   "metadata": {},
   "source": [
    "#### 13. Design a class representing a Vehicle with a method to calculate mileage, and override it in subclasses."
   ]
  },
  {
   "cell_type": "code",
   "execution_count": 3,
   "metadata": {},
   "outputs": [
    {
     "name": "stdout",
     "output_type": "stream",
     "text": [
      "Car mileage: 30\n",
      "Bicycle mileage: Infinite\n"
     ]
    }
   ],
   "source": [
    "class Vehicle:\n",
    "    def calculate_mileage(self):\n",
    "        pass\n",
    "\n",
    "class Car(Vehicle):\n",
    "    def calculate_mileage(self):\n",
    "        return 30  # hypothetical mileage for a car\n",
    "\n",
    "class Bicycle(Vehicle):\n",
    "    def calculate_mileage(self):\n",
    "        return \"Infinite\"  # hypothetical mileage for a bicycle\n",
    "\n",
    "# Example usage:\n",
    "car = Car()\n",
    "print(\"Car mileage:\", car.calculate_mileage())  # Output: 30\n",
    "\n",
    "bicycle = Bicycle()\n",
    "print(\"Bicycle mileage:\", bicycle.calculate_mileage())  # Output: Infinite"
   ]
  },
  {
   "cell_type": "markdown",
   "metadata": {},
   "source": [
    "#### 14. Develop a class hierarchy for Animals with methods like make_sound overridden in subclasses."
   ]
  },
  {
   "cell_type": "markdown",
   "metadata": {},
   "source": [
    "\n",
    "\n",
    "\n",
    "\n",
    "\n",
    "```python\n",
    "class Animal:\n",
    "    def make_sound(self):\n",
    "        pass\n",
    "\n",
    "class Dog(Animal):\n",
    "    def make_sound(self):\n",
    "        return \"Woof!\"\n",
    "\n",
    "class Cat(Animal):\n",
    "    def make_sound(self):\n",
    "        return \"Meow!\"\n",
    "\n",
    "# Example usage:\n",
    "dog = Dog()\n",
    "print(\"Dog sounds like:\", dog.make_sound())  # Output: Woof!\n",
    "\n",
    "cat = Cat()\n",
    "print(\"Cat sounds like:\", cat.make_sound())  # Output: Meow!\n",
    "```\n",
    "\n",
    "15. Create a class representing a Bank Account with a method to calculate interest, overridden in subclasses.\n",
    "\n",
    "```python\n",
    "class BankAccount:\n",
    "    def calculate_interest(self):\n",
    "        pass\n",
    "\n",
    "class SavingsAccount(BankAccount):\n",
    "    def calculate_interest(self):\n",
    "        return \"3%\"  # hypothetical interest rate for savings account\n",
    "\n",
    "class CheckingAccount(BankAccount):\n",
    "    def calculate_interest(self):\n",
    "        return \"0%\"  # checking account typically doesn't yield interest\n",
    "\n",
    "# Example usage:\n",
    "savings_account = SavingsAccount()\n",
    "print(\"Savings Account interest rate:\", savings_account.calculate_interest())  # Output: 3%\n",
    "\n",
    "checking_account = CheckingAccount()\n",
    "print(\"Checking Account interest rate:\", checking_account.calculate_interest())  # Output: 0%\n",
    "```\n",
    "\n",
    "These are the implementations for the polymorphism problems you requested. Let me know if you need further assistance!"
   ]
  }
 ],
 "metadata": {
  "kernelspec": {
   "display_name": "Python 3",
   "language": "python",
   "name": "python3"
  },
  "language_info": {
   "codemirror_mode": {
    "name": "ipython",
    "version": 3
   },
   "file_extension": ".py",
   "mimetype": "text/x-python",
   "name": "python",
   "nbconvert_exporter": "python",
   "pygments_lexer": "ipython3",
   "version": "3.6.9"
  }
 },
 "nbformat": 4,
 "nbformat_minor": 4
}
