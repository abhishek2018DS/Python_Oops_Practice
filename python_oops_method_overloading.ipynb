{
 "cells": [
  {
   "cell_type": "markdown",
   "metadata": {},
   "source": [
    "#### 31. Implement method overloading for arithmetic operations in a class.\n"
   ]
  },
  {
   "cell_type": "code",
   "execution_count": 1,
   "metadata": {},
   "outputs": [
    {
     "name": "stdout",
     "output_type": "stream",
     "text": [
      "8\n",
      "25\n"
     ]
    }
   ],
   "source": [
    "class Arithmetic:\n",
    "    def operation(self, a, b=None):\n",
    "        if b is not None:\n",
    "            return a + b\n",
    "        return a * a\n",
    "\n",
    "# Example usage:\n",
    "arithmetic = Arithmetic()\n",
    "print(arithmetic.operation(5, 3))  # Output: 8 (addition)\n",
    "print(arithmetic.operation(5))     # Output: 25 (squared)"
   ]
  },
  {
   "cell_type": "markdown",
   "metadata": {},
   "source": [
    "#### 32. Design a class representing a Calculator with overloaded methods for addition, subtraction, etc."
   ]
  },
  {
   "cell_type": "code",
   "execution_count": 2,
   "metadata": {},
   "outputs": [
    {
     "name": "stdout",
     "output_type": "stream",
     "text": [
      "3\n",
      "6\n",
      "5\n",
      "2\n",
      "-5\n"
     ]
    }
   ],
   "source": [
    "class Calculator:\n",
    "    def add(self, a, b=None, c=None):\n",
    "        if b is not None and c is not None:\n",
    "            return a + b + c\n",
    "        elif b is not None:\n",
    "            return a + b\n",
    "        else:\n",
    "            return a\n",
    "\n",
    "    def subtract(self, a, b=None):\n",
    "        if b is not None:\n",
    "            return a - b\n",
    "        return -a\n",
    "\n",
    "# Example usage:\n",
    "calc = Calculator()\n",
    "print(calc.add(1, 2))        # Output: 3\n",
    "print(calc.add(1, 2, 3))     # Output: 6\n",
    "print(calc.add(5))           # Output: 5\n",
    "print(calc.subtract(5, 3))   # Output: 2\n",
    "print(calc.subtract(5))  "
   ]
  },
  {
   "cell_type": "code",
   "execution_count": null,
   "metadata": {},
   "outputs": [],
   "source": []
  },
  {
   "cell_type": "markdown",
   "metadata": {},
   "source": [
    "\n",
    "\n",
    "\n",
    "```python\n",
    "\n",
    "```\n",
    "\n",
    "\n",
    "\n",
    "```python\n",
    "    # Output: -5\n",
    "```\n",
    "\n",
    "\n",
    "\n",
    "```python\n",
    "class MyString:\n",
    "    def __init__(self, string):\n",
    "        self.string = string\n",
    "\n",
    "    def concatenate(self, other):\n",
    "        return self.string + other\n",
    "\n",
    "    def substring(self, start, end=None):\n",
    "        if end is not None:\n",
    "            return self.string[start:end]\n",
    "        return self.string[start:]\n",
    "\n",
    "# Example usage:\n",
    "my_string = MyString(\"Hello\")\n",
    "print(my_string.concatenate(\" World\"))  # Output: Hello World\n",
    "print(my_string.substring(1, 4))        # Output: ell\n",
    "print(my_string.substring(2))           # Output: llo\n",
    "```\n",
    "\n",
    "34. Create a class representing a Vector with overloaded methods for addition, subtraction, etc.\n",
    "\n",
    "```python\n",
    "class Vector:\n",
    "    def __init__(self, x, y):\n",
    "        self.x = x\n",
    "        self.y = y\n",
    "\n",
    "    def add(self, other):\n",
    "        return Vector(self.x + other.x, self.y + other.y)\n",
    "\n",
    "    def subtract(self, other):\n",
    "        return Vector(self.x - other.x, self.y - other.y)\n",
    "\n",
    "    def __str__(self):\n",
    "        return f\"Vector({self.x}, {self.y})\"\n",
    "\n",
    "# Example usage:\n",
    "v1 = Vector(2, 3)\n",
    "v2 = Vector(4, 5)\n",
    "v3 = v1.add(v2)\n",
    "v4 = v1.subtract(v2)\n",
    "print(v3)  # Output: Vector(6, 8)\n",
    "print(v4)  # Output: Vector(-2, -2)\n",
    "```\n",
    "\n",
    "35. Design a class representing a Date with overloaded methods for comparison, addition, etc.\n",
    "\n",
    "```python\n",
    "from datetime import timedelta, date\n",
    "\n",
    "class MyDate:\n",
    "    def __init__(self, year, month, day):\n",
    "        self.date = date(year, month, day)\n",
    "\n",
    "    def add_days(self, days):\n",
    "        return MyDate(self.date.year, self.date.month, self.date.day + timedelta(days=days).days)\n",
    "\n",
    "    def compare(self, other):\n",
    "        if self.date > other.date:\n",
    "            return \"This date is later.\"\n",
    "        elif self.date < other.date:\n",
    "            return \"This date is earlier.\"\n",
    "        return \"Both dates are the same.\"\n",
    "\n",
    "    def __str__(self):\n",
    "        return self.date.strftime(\"%Y-%m-%d\")\n",
    "\n",
    "# Example usage:\n",
    "date1 = MyDate(2023, 5, 20)\n",
    "date2 = MyDate(2023, 5, 25)\n",
    "date3 = date1.add_days(10)\n",
    "print(date1)                  # Output: 2023-05-20\n",
    "print(date3)                  # Output: 2023-05-30\n",
    "print(date1.compare(date2))   # Output: This date is earlier.\n",
    "```\n",
    "\n",
    "These examples demonstrate how to simulate method overloading in Python using various techniques. Let me know if you need any further assistance!"
   ]
  }
 ],
 "metadata": {
  "kernelspec": {
   "display_name": "Python 3",
   "language": "python",
   "name": "python3"
  },
  "language_info": {
   "codemirror_mode": {
    "name": "ipython",
    "version": 3
   },
   "file_extension": ".py",
   "mimetype": "text/x-python",
   "name": "python",
   "nbconvert_exporter": "python",
   "pygments_lexer": "ipython3",
   "version": "3.6.9"
  }
 },
 "nbformat": 4,
 "nbformat_minor": 4
}
