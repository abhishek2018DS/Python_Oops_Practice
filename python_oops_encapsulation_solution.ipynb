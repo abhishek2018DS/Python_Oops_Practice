{
 "cells": [
  {
   "cell_type": "markdown",
   "metadata": {},
   "source": [
    "#### 16. Design a class representing a Book with private attributes like title, author, and methods to access them."
   ]
  },
  {
   "cell_type": "code",
   "execution_count": 1,
   "metadata": {},
   "outputs": [
    {
     "name": "stdout",
     "output_type": "stream",
     "text": [
      "Book title: Python Programming\n",
      "Book author: John Doe\n"
     ]
    }
   ],
   "source": [
    "class Book:\n",
    "    def __init__(self, title, author):\n",
    "        self.__title = title\n",
    "        self.__author = author\n",
    "\n",
    "    def get_title(self):\n",
    "        return self.__title\n",
    "\n",
    "    def get_author(self):\n",
    "        return self.__author\n",
    "\n",
    "# Example usage:\n",
    "book = Book(\"Python Programming\", \"John Doe\")\n",
    "print(\"Book title:\", book.get_title())\n",
    "print(\"Book author:\", book.get_author())"
   ]
  },
  {
   "cell_type": "markdown",
   "metadata": {},
   "source": [
    "#### 17. Implement a class representing a Bank Account with private attributes like balance and methods to access them."
   ]
  },
  {
   "cell_type": "code",
   "execution_count": 2,
   "metadata": {},
   "outputs": [
    {
     "name": "stdout",
     "output_type": "stream",
     "text": [
      "Account balance: 1300\n"
     ]
    }
   ],
   "source": [
    "class BankAccount:\n",
    "    def __init__(self, initial_balance=0):\n",
    "        self.__balance = initial_balance\n",
    "\n",
    "    def deposit(self, amount):\n",
    "        self.__balance += amount\n",
    "\n",
    "    def withdraw(self, amount):\n",
    "        if amount <= self.__balance:\n",
    "            self.__balance -= amount\n",
    "        else:\n",
    "            print(\"Insufficient balance\")\n",
    "\n",
    "    def get_balance(self):\n",
    "        return self.__balance\n",
    "\n",
    "# Example usage:\n",
    "account = BankAccount(1000)\n",
    "account.deposit(500)\n",
    "account.withdraw(200)\n",
    "print(\"Account balance:\", account.get_balance())"
   ]
  },
  {
   "cell_type": "markdown",
   "metadata": {},
   "source": [
    "#### 18. Develop a class representing a Person with private attributes like age, and methods to access them."
   ]
  },
  {
   "cell_type": "code",
   "execution_count": 3,
   "metadata": {},
   "outputs": [
    {
     "name": "stdout",
     "output_type": "stream",
     "text": [
      "Person: John\n",
      "Age: 30\n"
     ]
    }
   ],
   "source": [
    "class Person:\n",
    "    def __init__(self, name, age):\n",
    "        self.__name = name\n",
    "        self.__age = age\n",
    "\n",
    "    def get_name(self):\n",
    "        return self.__name\n",
    "\n",
    "    def get_age(self):\n",
    "        return self.__age\n",
    "\n",
    "# Example usage:\n",
    "person = Person(\"John\", 30)\n",
    "print(\"Person:\", person.get_name())\n",
    "print(\"Age:\", person.get_age())"
   ]
  },
  {
   "cell_type": "markdown",
   "metadata": {},
   "source": [
    "#### 19. Create a class representing a Car with private attributes like speed, and methods to access them."
   ]
  },
  {
   "cell_type": "code",
   "execution_count": 4,
   "metadata": {},
   "outputs": [
    {
     "name": "stdout",
     "output_type": "stream",
     "text": [
      "Current speed: 20\n",
      "Current speed after braking: 15\n"
     ]
    }
   ],
   "source": [
    "class Car:\n",
    "    def __init__(self, speed=0):\n",
    "        self.__speed = speed\n",
    "\n",
    "    def accelerate(self, increment):\n",
    "        self.__speed += increment\n",
    "\n",
    "    def brake(self, decrement):\n",
    "        self.__speed -= decrement\n",
    "\n",
    "    def get_speed(self):\n",
    "        return self.__speed\n",
    "\n",
    "# Example usage:\n",
    "car = Car()\n",
    "car.accelerate(20)\n",
    "print(\"Current speed:\", car.get_speed())\n",
    "car.brake(5)\n",
    "print(\"Current speed after braking:\", car.get_speed())"
   ]
  },
  {
   "cell_type": "markdown",
   "metadata": {},
   "source": [
    "#### 20. Design a class representing a School with private attributes like students, teachers, and methods to access them."
   ]
  },
  {
   "cell_type": "code",
   "execution_count": 5,
   "metadata": {},
   "outputs": [
    {
     "name": "stdout",
     "output_type": "stream",
     "text": [
      "Students: ['Alice', 'Bob']\n",
      "Teachers: ['Mr. Smith', 'Ms. Johnson']\n"
     ]
    }
   ],
   "source": [
    "class School:\n",
    "    def __init__(self):\n",
    "        self.__students = []\n",
    "        self.__teachers = []\n",
    "\n",
    "    def add_student(self, student):\n",
    "        self.__students.append(student)\n",
    "\n",
    "    def add_teacher(self, teacher):\n",
    "        self.__teachers.append(teacher)\n",
    "\n",
    "    def get_students(self):\n",
    "        return self.__students\n",
    "\n",
    "    def get_teachers(self):\n",
    "        return self.__teachers\n",
    "\n",
    "# Example usage:\n",
    "school = School()\n",
    "school.add_student(\"Alice\")\n",
    "school.add_student(\"Bob\")\n",
    "school.add_teacher(\"Mr. Smith\")\n",
    "school.add_teacher(\"Ms. Johnson\")\n",
    "print(\"Students:\", school.get_students())\n",
    "print(\"Teachers:\", school.get_teachers())"
   ]
  },
  {
   "cell_type": "code",
   "execution_count": null,
   "metadata": {},
   "outputs": [],
   "source": []
  }
 ],
 "metadata": {
  "kernelspec": {
   "display_name": "Python 3",
   "language": "python",
   "name": "python3"
  },
  "language_info": {
   "codemirror_mode": {
    "name": "ipython",
    "version": 3
   },
   "file_extension": ".py",
   "mimetype": "text/x-python",
   "name": "python",
   "nbconvert_exporter": "python",
   "pygments_lexer": "ipython3",
   "version": "3.6.9"
  }
 },
 "nbformat": 4,
 "nbformat_minor": 4
}
